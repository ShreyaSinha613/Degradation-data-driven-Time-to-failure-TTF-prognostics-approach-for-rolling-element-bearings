{
 "cells": [
  {
   "cell_type": "code",
   "execution_count": 1,
   "metadata": {},
   "outputs": [
    {
     "name": "stdout",
     "output_type": "stream",
     "text": [
      "3.1666666666666665\n"
     ]
    }
   ],
   "source": [
    "# Python program to demonstrate mean() \n",
    "# function from the statistics module \n",
    "  \n",
    "# Importing the statistics module\n",
    "value = []\n",
    "value = [1,2,3,4,4,5]\n",
    "import numpy as np \n",
    "def mean(value):   \n",
    "    x = np.mean(value) \n",
    "    return(x)\n",
    "print(mean(value))\n"
   ]
  },
  {
   "cell_type": "code",
   "execution_count": 2,
   "metadata": {},
   "outputs": [
    {
     "name": "stdout",
     "output_type": "stream",
     "text": [
      "3.4399612400917157\n"
     ]
    }
   ],
   "source": [
    "import numpy as np\n",
    "#root mean squared value\n",
    "value = []\n",
    "value = [1,2,3,4,4,5]\n",
    "\n",
    "def rmsv(value):\n",
    "    y=np.array(value)\n",
    "    t=np.sqrt(np.mean(y**2))\n",
    "    return(t)\n",
    "print(rmsv(value))\n"
   ]
  },
  {
   "cell_type": "code",
   "execution_count": 3,
   "metadata": {},
   "outputs": [
    {
     "name": "stdout",
     "output_type": "stream",
     "text": [
      "5\n"
     ]
    }
   ],
   "source": [
    "import numpy as np\n",
    "value = []\n",
    "value = [1,2,3,4,4,5]\n",
    "#maximum value\n",
    "def mav(value):\n",
    "    maxm=np.amax(value)\n",
    "    return(maxm)\n",
    "print(mav(value))    "
   ]
  },
  {
   "cell_type": "code",
   "execution_count": 4,
   "metadata": {},
   "outputs": [
    {
     "name": "stdout",
     "output_type": "stream",
     "text": [
      "2.9942451381315442\n"
     ]
    }
   ],
   "source": [
    "#square mean root value\n",
    "value = []\n",
    "value = [1,2,3,4,4,5]\n",
    "def smrv(value):\n",
    "    y=np.array(value)\n",
    "    value_abs=abs(y)\n",
    "    sqrt_value=np.sqrt(value_abs)\n",
    "    mean_squared_value=sqrt_value.mean()\n",
    "    smrvalue=mean_squared_value**2\n",
    "    return(smrvalue)\n",
    "print(smrv(value))"
   ]
  },
  {
   "cell_type": "code",
   "execution_count": 5,
   "metadata": {},
   "outputs": [
    {
     "name": "stdout",
     "output_type": "stream",
     "text": [
      "-0.018197242558178728\n"
     ]
    }
   ],
   "source": [
    "#skewness coeff\n",
    "def sc(value):\n",
    "    y=np.array(value)\n",
    "    difference = y-mean(value)\n",
    "    cube_of_differences=difference**3\n",
    "    cube=np.mean(cube_of_differences)\n",
    "    skewness_coeff=cube/(rmsv(value)**3)\n",
    "    return(skewness_coeff)\n",
    "print(sc(value))"
   ]
  },
  {
   "cell_type": "code",
   "execution_count": 6,
   "metadata": {},
   "outputs": [
    {
     "name": "stdout",
     "output_type": "stream",
     "text": [
      "0.04303048336970177\n"
     ]
    }
   ],
   "source": [
    "#kurtosis coeff\n",
    "    \n",
    "def kc(value):\n",
    "    y=np.array(value)\n",
    "    differences=y-mean(value)\n",
    "    quad_val=differences**4\n",
    "    mean_quad_val=np.mean(quad_val)\n",
    "    kc_value=mean_quad_val/(rmsv(value)**4)\n",
    "    return(kc_value)\n",
    "print(kc(value))"
   ]
  },
  {
   "cell_type": "code",
   "execution_count": 7,
   "metadata": {},
   "outputs": [
    {
     "name": "stdout",
     "output_type": "stream",
     "text": [
      "1.0863035495026472\n"
     ]
    }
   ],
   "source": [
    "#shape factor \n",
    "def sf(value):\n",
    "    y=np.array(value)\n",
    "    abs_val=abs(y)\n",
    "    mean_of_value=np.mean(abs_val)\n",
    "    shape_factor=rmsv(value)/mean_of_value #t is the rms value\n",
    "    return(shape_factor)\n",
    "print(sf(value))"
   ]
  },
  {
   "cell_type": "code",
   "execution_count": 8,
   "metadata": {},
   "outputs": [
    {
     "name": "stdout",
     "output_type": "stream",
     "text": [
      "1.4535047493345277\n"
     ]
    }
   ],
   "source": [
    "#clearance factor\n",
    "def cf():\n",
    "    c_factor=mav(value)/rmsv(value)\n",
    "    return(c_factor)\n",
    "print( cf())"
   ]
  },
  {
   "cell_type": "code",
   "execution_count": 9,
   "metadata": {},
   "outputs": [
    {
     "name": "stdout",
     "output_type": "stream",
     "text": [
      "0.3068354518387092\n"
     ]
    }
   ],
   "source": [
    "#root mean square factor\n",
    "import math\n",
    "value2=[]\n",
    "value2=value[1:]\n",
    "def rmsf(value):\n",
    "    p=math.pi\n",
    "    y1=np.array(value2)\n",
    "    y=np.array(value)\n",
    "    value_squared=y1**2\n",
    "    value_squared2=y**2\n",
    "    mean1=np.mean(value_squared)\n",
    "    mean2=np.mean(value_squared2)\n",
    "    ratio=mean1/(mean2*4*p)\n",
    "    rmsfrequency=np.sqrt(ratio)\n",
    "    return(rmsfrequency)\n",
    "print(rmsf(value))\n",
    "    \n",
    "    \n",
    "    \n",
    "  # ............................................\n",
    "    "
   ]
  },
  {
   "cell_type": "code",
   "execution_count": 10,
   "metadata": {},
   "outputs": [
    {
     "name": "stdout",
     "output_type": "stream",
     "text": [
      "[ 9 11 13 15 17 21]\n"
     ]
    }
   ],
   "source": [
    "# 1.adding the whiten noise with zero mean...\n",
    "#white noise dataset\n",
    "whitenoise=[]\n",
    "whitenoise=[2,3,4,5,6,8]\n",
    "def add(whitenoise):\n",
    "    newsignal=[]\n",
    "    X=5\n",
    "    k=2\n",
    "    y2=np.array(whitenoise)\n",
    "    newsignal = X + y2*k      #k is a constant,X is a preprocessedsignal value\n",
    "    return(newsignal)\n",
    "print(add(whitenoise))\n",
    "    \n",
    "    \n",
    "    \n",
    "    \n",
    "    \n",
    "    "
   ]
  },
  {
   "cell_type": "code",
   "execution_count": 11,
   "metadata": {},
   "outputs": [
    {
     "name": "stdout",
     "output_type": "stream",
     "text": [
      "13.0\n"
     ]
    }
   ],
   "source": [
    "#2. emd to obtain imf\n",
    "arr=[]\n",
    "arr2=[]\n",
    "arr = add(whitenoise)\n",
    "arr2=arr[0:5]                 #I is the ensemble number\n",
    "from PyEMD import EMD\n",
    "def mean_of_IMF(arr2):\n",
    "    a=np.array(arr2)        #making an array upto ensemble number\n",
    "    emd=EMD()\n",
    "    IMF=emd(a)\n",
    "    mean_imf=np.mean(IMF)\n",
    "    return(mean_imf)\n",
    "print(mean_of_IMF(arr2))\n"
   ]
  },
  {
   "cell_type": "code",
   "execution_count": 12,
   "metadata": {},
   "outputs": [
    {
     "name": "stdout",
     "output_type": "stream",
     "text": [
      "32.0\n"
     ]
    }
   ],
   "source": [
    "#3.calculate the residue\n",
    "def residue():\n",
    "    X=45\n",
    "    r = X - mean_of_IMF(arr2)   # X is the preprocessed vibration signal\n",
    "    return(r)\n",
    "print(residue())\n",
    "res=residue()"
   ]
  },
  {
   "cell_type": "code",
   "execution_count": 13,
   "metadata": {},
   "outputs": [
    {
     "name": "stdout",
     "output_type": "stream",
     "text": [
      "[[26. 23. 20. 17. 14.  8.]]\n"
     ]
    }
   ],
   "source": [
    "#4. new signal generation \n",
    "from PyEMD import EMD\n",
    "def new_signal(whitenoise):\n",
    "    y2=np.array(whitenoise)\n",
    "    k2=3\n",
    "    emdd=EMD()\n",
    "    newIMF= emdd(y2)\n",
    "    newsignal = res - k2*newIMF    #k2 is another coeff\n",
    "    return(newsignal)\n",
    "print(new_signal(whitenoise))\n",
    "    \n",
    "    "
   ]
  },
  {
   "cell_type": "code",
   "execution_count": 14,
   "metadata": {},
   "outputs": [
    {
     "ename": "ValueError",
     "evalue": "Position or time array should be the same size as signal.",
     "traceback": [
      "\u001b[1;31m---------------------------------------------------------------------------\u001b[0m",
      "\u001b[1;31mValueError\u001b[0m                                Traceback (most recent call last)",
      "\u001b[1;32m<ipython-input-14-b0e09b407fb0>\u001b[0m in \u001b[0;36m<module>\u001b[1;34m\u001b[0m\n\u001b[0;32m     11\u001b[0m     \u001b[0mmean_of_IMF2\u001b[0m\u001b[1;33m=\u001b[0m\u001b[0mnp\u001b[0m\u001b[1;33m.\u001b[0m\u001b[0mmean\u001b[0m\u001b[1;33m(\u001b[0m\u001b[0mIMF2\u001b[0m\u001b[1;33m)\u001b[0m\u001b[1;33m\u001b[0m\u001b[1;33m\u001b[0m\u001b[0m\n\u001b[0;32m     12\u001b[0m     \u001b[1;32mreturn\u001b[0m\u001b[1;33m(\u001b[0m\u001b[0mmean_of_IMF2\u001b[0m\u001b[1;33m)\u001b[0m\u001b[1;33m\u001b[0m\u001b[1;33m\u001b[0m\u001b[0m\n\u001b[1;32m---> 13\u001b[1;33m \u001b[0mprint\u001b[0m\u001b[1;33m(\u001b[0m\u001b[0msecond_IMFmean\u001b[0m\u001b[1;33m(\u001b[0m\u001b[0mar\u001b[0m\u001b[1;33m)\u001b[0m\u001b[1;33m)\u001b[0m\u001b[1;33m\u001b[0m\u001b[1;33m\u001b[0m\u001b[0m\n\u001b[0m\u001b[0;32m     14\u001b[0m \u001b[1;33m\u001b[0m\u001b[0m\n",
      "\u001b[1;32m<ipython-input-14-b0e09b407fb0>\u001b[0m in \u001b[0;36msecond_IMFmean\u001b[1;34m(ar)\u001b[0m\n\u001b[0;32m      8\u001b[0m     \u001b[0my\u001b[0m\u001b[1;33m=\u001b[0m\u001b[0mnp\u001b[0m\u001b[1;33m.\u001b[0m\u001b[0marray\u001b[0m\u001b[1;33m(\u001b[0m\u001b[0mar\u001b[0m\u001b[1;33m)\u001b[0m\u001b[1;33m\u001b[0m\u001b[1;33m\u001b[0m\u001b[0m\n\u001b[0;32m      9\u001b[0m     \u001b[0memmd\u001b[0m\u001b[1;33m=\u001b[0m\u001b[0mEMD\u001b[0m\u001b[1;33m(\u001b[0m\u001b[1;33m)\u001b[0m\u001b[1;33m\u001b[0m\u001b[1;33m\u001b[0m\u001b[0m\n\u001b[1;32m---> 10\u001b[1;33m     \u001b[0mIMF2\u001b[0m\u001b[1;33m=\u001b[0m\u001b[0memmd\u001b[0m\u001b[1;33m(\u001b[0m\u001b[0my\u001b[0m\u001b[1;33m)\u001b[0m\u001b[1;33m\u001b[0m\u001b[1;33m\u001b[0m\u001b[0m\n\u001b[0m\u001b[0;32m     11\u001b[0m     \u001b[0mmean_of_IMF2\u001b[0m\u001b[1;33m=\u001b[0m\u001b[0mnp\u001b[0m\u001b[1;33m.\u001b[0m\u001b[0mmean\u001b[0m\u001b[1;33m(\u001b[0m\u001b[0mIMF2\u001b[0m\u001b[1;33m)\u001b[0m\u001b[1;33m\u001b[0m\u001b[1;33m\u001b[0m\u001b[0m\n\u001b[0;32m     12\u001b[0m     \u001b[1;32mreturn\u001b[0m\u001b[1;33m(\u001b[0m\u001b[0mmean_of_IMF2\u001b[0m\u001b[1;33m)\u001b[0m\u001b[1;33m\u001b[0m\u001b[1;33m\u001b[0m\u001b[0m\n",
      "\u001b[1;32m~\\Anaconda3\\lib\\site-packages\\PyEMD\\EMD.py\u001b[0m in \u001b[0;36m__call__\u001b[1;34m(self, S, T, max_imf)\u001b[0m\n\u001b[0;32m    106\u001b[0m \u001b[1;33m\u001b[0m\u001b[0m\n\u001b[0;32m    107\u001b[0m     \u001b[1;32mdef\u001b[0m \u001b[0m__call__\u001b[0m\u001b[1;33m(\u001b[0m\u001b[0mself\u001b[0m\u001b[1;33m,\u001b[0m \u001b[0mS\u001b[0m\u001b[1;33m,\u001b[0m \u001b[0mT\u001b[0m\u001b[1;33m=\u001b[0m\u001b[1;32mNone\u001b[0m\u001b[1;33m,\u001b[0m \u001b[0mmax_imf\u001b[0m\u001b[1;33m=\u001b[0m\u001b[1;32mNone\u001b[0m\u001b[1;33m)\u001b[0m\u001b[1;33m:\u001b[0m\u001b[1;33m\u001b[0m\u001b[1;33m\u001b[0m\u001b[0m\n\u001b[1;32m--> 108\u001b[1;33m         \u001b[1;32mreturn\u001b[0m \u001b[0mself\u001b[0m\u001b[1;33m.\u001b[0m\u001b[0memd\u001b[0m\u001b[1;33m(\u001b[0m\u001b[0mS\u001b[0m\u001b[1;33m,\u001b[0m \u001b[0mT\u001b[0m\u001b[1;33m=\u001b[0m\u001b[0mT\u001b[0m\u001b[1;33m,\u001b[0m \u001b[0mmax_imf\u001b[0m\u001b[1;33m=\u001b[0m\u001b[0mmax_imf\u001b[0m\u001b[1;33m)\u001b[0m\u001b[1;33m\u001b[0m\u001b[1;33m\u001b[0m\u001b[0m\n\u001b[0m\u001b[0;32m    109\u001b[0m \u001b[1;33m\u001b[0m\u001b[0m\n\u001b[0;32m    110\u001b[0m     \u001b[1;32mdef\u001b[0m \u001b[0mextract_max_min_spline\u001b[0m\u001b[1;33m(\u001b[0m\u001b[0mself\u001b[0m\u001b[1;33m,\u001b[0m \u001b[0mT\u001b[0m\u001b[1;33m,\u001b[0m \u001b[0mS\u001b[0m\u001b[1;33m)\u001b[0m\u001b[1;33m:\u001b[0m\u001b[1;33m\u001b[0m\u001b[1;33m\u001b[0m\u001b[0m\n",
      "\u001b[1;32m~\\Anaconda3\\lib\\site-packages\\PyEMD\\EMD.py\u001b[0m in \u001b[0;36memd\u001b[1;34m(self, S, T, max_imf)\u001b[0m\n\u001b[0;32m    763\u001b[0m \u001b[1;33m\u001b[0m\u001b[0m\n\u001b[0;32m    764\u001b[0m         \u001b[1;32mif\u001b[0m \u001b[0mS\u001b[0m\u001b[1;33m.\u001b[0m\u001b[0mshape\u001b[0m \u001b[1;33m!=\u001b[0m \u001b[0mT\u001b[0m\u001b[1;33m.\u001b[0m\u001b[0mshape\u001b[0m\u001b[1;33m:\u001b[0m\u001b[1;33m\u001b[0m\u001b[1;33m\u001b[0m\u001b[0m\n\u001b[1;32m--> 765\u001b[1;33m             \u001b[1;32mraise\u001b[0m \u001b[0mValueError\u001b[0m\u001b[1;33m(\u001b[0m\u001b[1;34m\"Position or time array should be the same size as signal.\"\u001b[0m\u001b[1;33m)\u001b[0m\u001b[1;33m\u001b[0m\u001b[1;33m\u001b[0m\u001b[0m\n\u001b[0m\u001b[0;32m    766\u001b[0m \u001b[1;33m\u001b[0m\u001b[0m\n\u001b[0;32m    767\u001b[0m         \u001b[1;31m# Create arrays\u001b[0m\u001b[1;33m\u001b[0m\u001b[1;33m\u001b[0m\u001b[1;33m\u001b[0m\u001b[0m\n",
      "\u001b[1;31mValueError\u001b[0m: Position or time array should be the same size as signal."
     ],
     "output_type": "error"
    }
   ],
   "source": [
    "#5.second imf\n",
    "new_signal(whitenoise)\n",
    "ar=[]\n",
    "whitenoise=[]\n",
    "whitenoise=[2,3,4,5,6,8]\n",
    "ar = new_signal(whitenoise)\n",
    "def second_IMFmean(ar):\n",
    "    y=np.array(ar)\n",
    "    emmd=EMD()\n",
    "    IMF2=emmd(y)\n",
    "    mean_of_IMF2=np.mean(IMF2)\n",
    "    return(mean_of_IMF2)\n",
    "print(second_IMFmean(ar))\n",
    "\n"
   ]
  },
  {
   "cell_type": "code",
   "execution_count": 15,
   "metadata": {},
   "outputs": [
    {
     "name": "stdout",
     "output_type": "stream",
     "text": [
      "42.25\n"
     ]
    }
   ],
   "source": [
    "#6.fnding the intrinsic energy features\n",
    "def intrinsic_energy_features():\n",
    "    N=5                              #N is the sampling point\n",
    "    val=mean_of_IMF(arr2)\n",
    "    IEF=val**2/(N-1)\n",
    "    return(IEF)\n",
    "print(intrinsic_energy_features())\n",
    "    \n",
    "    "
   ]
  },
  {
   "cell_type": "code",
   "execution_count": 16,
   "metadata": {},
   "outputs": [
    {
     "name": "stdout",
     "output_type": "stream",
     "text": [
      "[[ 9.98892134e-01  1.99913242e+00  3.00047726e+00  3.99922171e+00\n",
      "   3.99944512e+00  5.00143806e+00]\n",
      " [ 1.10786619e-03  8.67575334e-04 -4.77262948e-04  7.78290699e-04\n",
      "   5.54877843e-04 -1.43805670e-03]]\n"
     ]
    }
   ],
   "source": [
    "# 1. FFFextracted by HHT\n",
    "from PyEMD import CEEMDAN\n",
    "def IEFextraction(value):\n",
    "    y=np.array(value)\n",
    "    ceemdan=CEEMDAN()\n",
    "    IMFk=ceemdan(y)\n",
    "    return(IMFk)\n",
    "print(IEFextraction(value))"
   ]
  },
  {
   "cell_type": "code",
   "execution_count": 17,
   "metadata": {
    "scrolled": true
   },
   "outputs": [
    {
     "name": "stdout",
     "output_type": "stream",
     "text": [
      "[[ 9.99781412e-01+1.73242840e+00j  1.99975147e+00-1.15513540e+00j\n",
      "   3.00053462e+00-1.15516887e+00j  4.00056264e+00-5.76774248e-01j\n",
      "   3.99953692e+00-5.77259532e-01j  5.00040548e+00+1.73190965e+00j]\n",
      " [ 2.18588314e-04-3.77595303e-04j  2.48530427e-04+4.34863567e-04j\n",
      "  -5.34617478e-04+4.68331994e-04j -5.62644381e-04-5.76021569e-04j\n",
      "   4.63081146e-04-9.07366905e-05j -4.05483823e-04+1.41158002e-04j]]\n"
     ]
    }
   ],
   "source": [
    "# 2.hilbert transform applied to imf \n",
    "from scipy.signal import hilbert\n",
    "import numpy as np\n",
    "array_for_IMFk=[]\n",
    "array_for_IMFk=IEFextraction(value)\n",
    "def hilbert_function(array_for_IMFk):\n",
    "    y3=np.array(array_for_IMFk)\n",
    "    hilberttransform = hilbert(y3)\n",
    "    return(hilberttransform)\n",
    "print(hilbert_function(array_for_IMFk))\n",
    "    \n",
    "    "
   ]
  },
  {
   "cell_type": "code",
   "execution_count": 18,
   "metadata": {},
   "outputs": [
    {
     "name": "stdout",
     "output_type": "stream",
     "text": [
      "[[1.14104615e+00+1.51794886e+00j 2.71774063e+00-8.49964743e-01j\n",
      "  4.16700098e+00-8.31803064e-01j 5.64300744e+00-4.08899250e-01j\n",
      "  5.64152856e+00-4.09245612e-01j 6.96801924e+00+1.24285686e+00j]\n",
      " [2.49624070e-04-3.30648887e-04j 2.83115701e-04+3.81740849e-04j\n",
      "  6.94465114e-04-3.60534265e-04j 7.12792940e-04+4.54683655e-04j\n",
      "  6.51775445e-04-6.44676797e-05j 5.64954015e-04-1.01313178e-04j]]\n",
      "2\n",
      "[[1.2769965 +0.42662138j 0.86805375-0.27136301j 0.82238443-0.18753911j\n",
      "  0.79059446-0.07183536j 0.79060588-0.07191369j 0.81535252+0.16959548j]\n",
      " [1.27555995-0.42703375j 1.28146613+0.42529694j 0.96858608-0.37328229j\n",
      "  1.02675237+0.40695639j 0.79499523-0.0973366j  0.81565847-0.17042344j]]\n"
     ]
    }
   ],
   "source": [
    "\n",
    "array_for_hilbert=[]\n",
    "array_for_hilbert=hilbert_function(array_for_IMFk)\n",
    "import numpy as np\n",
    "import cmath\n",
    "import math\n",
    "def amplitude():\n",
    "    a=np.array(array_for_IMFk)\n",
    "    b=np.array(array_for_hilbert)\n",
    "    A=np.sqrt(a**2 + b**2)\n",
    "    return(A)\n",
    "def phase():\n",
    "    a=np.array(array_for_IMFk)\n",
    "    b=np.array(array_for_hilbert)\n",
    "    B=np.arctan(b/a)\n",
    "    return(B)\n",
    "print(amplitude())\n",
    "amp=amplitude()\n",
    "length=len(amp)\n",
    "print(length)\n",
    "print(phase())\n",
    "phas=phase()\n",
    "\n",
    "\n",
    "    "
   ]
  },
  {
   "cell_type": "code",
   "execution_count": 19,
   "metadata": {},
   "outputs": [
    {
     "name": "stdout",
     "output_type": "stream",
     "text": [
      "[[-6.50852591e-02-1.11087665e-01j -7.26849801e-03+1.33409880e-02j\n",
      "  -5.05953120e-03+1.84148228e-02j  1.81708362e-06-1.24654946e-05j\n",
      "   3.93855082e-03+3.84373773e-02j]\n",
      " [ 9.39997908e-04+1.35652643e-01j -4.97964068e-02-1.27097833e-01j\n",
      "   9.25745343e-03+1.24178843e-01j -3.68852951e-02-8.02607219e-02j\n",
      "   3.28865669e-03-1.16321316e-02j]]\n"
     ]
    }
   ],
   "source": [
    "#instanteneous frequency\n",
    "inst_freq=np.diff(phas)/(2*np.pi)\n",
    "print(inst_freq)"
   ]
  },
  {
   "cell_type": "code",
   "execution_count": 20,
   "metadata": {},
   "outputs": [
    {
     "name": "stdout",
     "output_type": "stream",
     "text": [
      "[[0.18901933+0.62474224j 0.84780169+1.00096123j 0.82084272+0.88392446j\n",
      "  0.75581275+0.76370871j 0.75586323+0.76377715j 0.5786606 +0.61440892j]\n",
      " [0.44596489+1.46638947j 0.18647189+0.62640994j 0.82278762+1.19697965j\n",
      "  0.34455267+0.569565j   0.77187956+0.78683914j 0.81273905+0.86347735j]]\n",
      "[[-7.32646991e-01+9.99781412e-01j  3.15488687e+00+1.99975147e+00j\n",
      "   4.15570349e+00+3.00053462e+00j  4.57733689e+00+4.00056264e+00j\n",
      "   4.57679645e+00+3.99953692e+00j  3.26849583e+00+5.00040548e+00j]\n",
      " [ 5.96183618e-04+2.18588314e-04j -1.86333139e-04+2.48530427e-04j\n",
      "   1.00294947e-03+5.34617478e-04j -1.33771886e-05+5.62644381e-04j\n",
      "   5.53817837e-04+4.63081146e-04j  5.46641825e-04+4.05483823e-04j]]\n"
     ]
    }
   ],
   "source": [
    "#hilbert spectral density\n",
    "\n",
    "#def hilbert_spectral_density(phas):\n",
    "sr=( np.cos(phas) + np.sin(phas)*1j ) #stores the exponential values\n",
    "print(sr)\n",
    "ss=sr*amp                              #analytical form of IMFk(z)\n",
    "print(ss)\n",
    "#print(hilbert_spectral_density(phas))"
   ]
  },
  {
   "cell_type": "code",
   "execution_count": 21,
   "metadata": {},
   "outputs": [
    {
     "name": "stdout",
     "output_type": "stream",
     "text": [
      "[-0.73205081+1.j          3.15470054+2.j          4.15670644+3.00106923j\n",
      "  4.57732351+4.00112529j  4.57735027+4.j          3.26904248+5.00081097j]\n"
     ]
    }
   ],
   "source": [
    "def hilbert_spectral_density():\n",
    "    RP=1\n",
    "    hilbert_spectr=RP*sum(ss) #RP is a constant\n",
    "    return(hilbert_spectr)\n",
    "print(hilbert_spectral_density())\n",
    "H=hilbert_spectral_density()\n"
   ]
  },
  {
   "cell_type": "code",
   "execution_count": null,
   "metadata": {},
   "outputs": [],
   "source": [
    "\n",
    "    \n",
    "   "
   ]
  },
  {
   "cell_type": "code",
   "execution_count": 22,
   "metadata": {},
   "outputs": [
    {
     "name": "stdout",
     "output_type": "stream",
     "text": [
      "[   nan 274.5  245.   145.    54.    61.25  54.25  52.    70.25  69.\n",
      "    nan]\n",
      "[      nan -165.2125  140.7125  -45.7125  -58.2875   64.0375  -55.5375\n",
      "   42.2875  -49.5375   76.2875       nan]\n"
     ]
    }
   ],
   "source": [
    "from statsmodels.tsa.seasonal import seasonal_decompose\n",
    "series = [551,52,443,42,53,68,56,37,78,88,22]\n",
    "result = seasonal_decompose(series, model='additive',freq=2)\n",
    "print(result.trend)\n",
    "trend_value=result.trend    #ft(t)\n",
    "#print(result.seasonal)\n",
    "print(result.resid)\n",
    "residual_value=result.resid\n",
    "feature_value=trend_value+residual_value\n",
    "\n",
    "#print(result.observed)\n"
   ]
  },
  {
   "cell_type": "code",
   "execution_count": 23,
   "metadata": {},
   "outputs": [
    {
     "name": "stdout",
     "output_type": "stream",
     "text": [
      "[    nan  -29.5  -100.    -91.      7.25   -7.     -2.25   18.25   -1.25\n",
      "     nan]\n"
     ]
    }
   ],
   "source": [
    "def monotonocity(trend_value):\n",
    "    tr=np.array(trend_value)\n",
    "    mono=np.diff(tr)\n",
    "    return(mono)\n",
    "print(monotonocity(trend_value))\n",
    "mon=monotonocity(trend_value)"
   ]
  },
  {
   "cell_type": "code",
   "execution_count": 25,
   "metadata": {},
   "outputs": [
    {
     "name": "stdout",
     "output_type": "stream",
     "text": [
      "[[nan nan]\n",
      " [nan nan]]\n"
     ]
    }
   ],
   "source": [
    "def correlation():\n",
    "    corr=np.corrcoef(trend_value,feature_value)\n",
    "    return(corr)\n",
    "print(correlation())\n",
    "corr=correlation()\n",
    "    "
   ]
  },
  {
   "cell_type": "code",
   "execution_count": 26,
   "metadata": {},
   "outputs": [
    {
     "name": "stdout",
     "output_type": "stream",
     "text": [
      "-5.7221805846155736\n"
     ]
    }
   ],
   "source": [
    "def robustness(feature_value,residual_value):\n",
    "    vall=-abs(residual_value/feature_value)\n",
    "    K=len(vall)\n",
    "    #for i in range(0:K):\n",
    "    cleanedList = vall[~np.isnan(vall)]\n",
    "    summ=sum(cleanedList)/K\n",
    "    return(summ)\n",
    "print(robustness(feature_value,residual_value))\n",
    "rob=robustness(feature_value,residual_value)\n",
    "    \n",
    "    #return\n",
    "\n",
    "    "
   ]
  },
  {
   "cell_type": "code",
   "execution_count": 29,
   "metadata": {},
   "outputs": [],
   "source": [
    "w1= .2   # take the values for w1 w2 and w3\n",
    "w2= .3\n",
    "w3= .5\n",
    "summ= w1+w2+w3\n",
    "#if summ==1:\n",
    " #   Z=w1*mon + w2*rob +w3*corr\n",
    "#print(Z)    "
   ]
  },
  {
   "cell_type": "code",
   "execution_count": null,
   "metadata": {},
   "outputs": [],
   "source": [
    "F=[[1,2,3,4,5]\n",
    "  [2,3,4,5,6]\n",
    "  [3,4,5,6,7]]"
   ]
  },
  {
   "cell_type": "code",
   "execution_count": null,
   "metadata": {},
   "outputs": [],
   "source": []
  }
 ],
 "metadata": {
  "kernelspec": {
   "display_name": "Python 3",
   "language": "python",
   "name": "python3"
  },
  "language_info": {
   "codemirror_mode": {
    "name": "ipython",
    "version": 3
   },
   "file_extension": ".py",
   "mimetype": "text/x-python",
   "name": "python",
   "nbconvert_exporter": "python",
   "pygments_lexer": "ipython3",
   "version": "3.7.3"
  }
 },
 "nbformat": 4,
 "nbformat_minor": 2
}
